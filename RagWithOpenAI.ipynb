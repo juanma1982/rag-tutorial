{
 "cells": [
  {
   "cell_type": "code",
   "execution_count": 1,
   "id": "78d5db90-2440-4620-88df-fe8c84f0cac8",
   "metadata": {},
   "outputs": [],
   "source": [
    "import os\n",
    "from dotenv import load_dotenv\n",
    "from langchain_openai.chat_models import ChatOpenAI\n",
    "from langchain.prompts import ChatPromptTemplate\n",
    "from langchain_core.output_parsers import StrOutputParser\n",
    "from langchain_community.document_loaders import TextLoader\n",
    "from langchain.text_splitter import RecursiveCharacterTextSplitter\n",
    "from langchain_openai.embeddings import OpenAIEmbeddings\n",
    "from langchain_community.vectorstores import DocArrayInMemorySearch\n",
    "from langchain_core.runnables import RunnableParallel, RunnablePassthrough"
   ]
  },
  {
   "cell_type": "code",
   "execution_count": 2,
   "id": "60ccbbd9-1b6b-48d9-b742-21663d56f460",
   "metadata": {},
   "outputs": [],
   "source": [
    "# Load environment variables\n",
    "load_dotenv()\n",
    "\n",
    "OPENAI_API_KEY = os.getenv(\"OPENAI_API_KEY\")\n",
    "\n",
    "# Set up the model\n",
    "model = ChatOpenAI(openai_api_key=OPENAI_API_KEY, model=\"gpt-4-1106-preview\")\n",
    "parser = StrOutputParser()"
   ]
  },
  {
   "cell_type": "code",
   "execution_count": 4,
   "id": "185703b4-1749-4177-b06c-7a37968e42ea",
   "metadata": {},
   "outputs": [],
   "source": [
    "prompt = ChatPromptTemplate.from_template(template)"
   ]
  },
  {
   "cell_type": "code",
   "execution_count": 5,
   "id": "dfd741c8-d39c-457b-aaaa-00a09c05f1f3",
   "metadata": {},
   "outputs": [],
   "source": [
    "pregunta=\"¿Quién fue el primer ingeniero egresado de la UBA?\""
   ]
  },
  {
   "cell_type": "markdown",
   "id": "0b0b74bc-1d40-48e9-8b49-e6fe4e8c8e76",
   "metadata": {},
   "source": [
    "## Primero probamos hacer una pregunta directa"
   ]
  },
  {
   "cell_type": "code",
   "execution_count": 6,
   "id": "37458fa5-37da-4956-9d59-06204d930267",
   "metadata": {},
   "outputs": [
    {
     "name": "stdout",
     "output_type": "stream",
     "text": [
      "ChatCompletionMessage(content='No tengo información específica sobre quién fue el primer ingeniero egresado de la Universidad de Buenos Aires (UBA) en Argentina. Sin embargo, puedo proporcionarte algo de contexto sobre la facultad responsable de esta área de estudio.\\n\\nLa Facultad de Ingeniería de la Universidad de Buenos Aires fue fundada en 1865, originalmente como parte del Departamento de Ciencias Exactas y luego evolucionó a la facultad actual. Si necesitas conocer quién fue el primer ingeniero egresado, podrías consultar los registros históricos de la UBA o ponerse en contacto directamente con la facultad.\\n\\nPuedo ayudarte con información más detallada o general sobre la historia de la facultad, programas de estudio o contribuciones significativas si estás interesado.', role='assistant', function_call=None, tool_calls=None)\n"
     ]
    }
   ],
   "source": [
    "from openai import OpenAI\n",
    "client = OpenAI()\n",
    "\n",
    "completion = client.chat.completions.create(\n",
    "  model=\"gpt-4-turbo\",\n",
    "  messages=[\n",
    "    {\"role\": \"system\", \"content\": \"\"},\n",
    "    {\"role\": \"user\", \"content\": pregunta}\n",
    "  ]\n",
    ")\n",
    "\n",
    "print(completion.choices[0].message)"
   ]
  },
  {
   "cell_type": "code",
   "execution_count": 3,
   "id": "30a33595-2219-4b7c-9721-99c52ab3f32b",
   "metadata": {},
   "outputs": [],
   "source": [
    "#definimos un template\n",
    "template = \"\"\"\n",
    "Answer the question based on the context below. If you can't \n",
    "answer the question, reply \"Yo que carajo sé\".\n",
    "\n",
    "Context: {context}\n",
    "\n",
    "Question: {question}\n",
    "\"\"\""
   ]
  },
  {
   "cell_type": "code",
   "execution_count": 8,
   "id": "ef088e11-77bf-493c-9ef0-f7ccba011f56",
   "metadata": {},
   "outputs": [],
   "source": [
    "# Load the file containing laws\n",
    "loader =loader = TextLoader(\"./textos/huergo.txt\")\n",
    "text_documents = loader.load()\n",
    "\n",
    "# Split the text into smaller chunks\n",
    "text_splitter = RecursiveCharacterTextSplitter(chunk_size=25000, chunk_overlap=5000)\n",
    "documents = text_splitter.split_documents(text_documents)\n",
    "\n",
    "# Generate embeddings for the law chunks\n",
    "embeddings = OpenAIEmbeddings()\n",
    "vectorstore = DocArrayInMemorySearch.from_documents(documents, embeddings)"
   ]
  },
  {
   "cell_type": "code",
   "execution_count": 9,
   "id": "2eb9c3b1-6533-4e22-bc47-a8e6d7399731",
   "metadata": {},
   "outputs": [
    {
     "name": "stdout",
     "output_type": "stream",
     "text": [
      "El primer ingeniero egresado de la Universidad de Buenos Aires (UBA) fue Luis Augusto Huergo.\n"
     ]
    }
   ],
   "source": [
    " retriever = vectorstore.as_retriever()\n",
    "setup = RunnableParallel(context=retriever, question=RunnablePassthrough())\n",
    "chain = setup | prompt | model | parser\n",
    "\n",
    "response = chain.invoke(pregunta)\n",
    "print(response)"
   ]
  },
  {
   "cell_type": "code",
   "execution_count": null,
   "id": "592badbe-ac2d-4159-92a6-3fd6d150d9d1",
   "metadata": {},
   "outputs": [],
   "source": []
  }
 ],
 "metadata": {
  "kernelspec": {
   "display_name": "Python 3 (ipykernel)",
   "language": "python",
   "name": "python3"
  },
  "language_info": {
   "codemirror_mode": {
    "name": "ipython",
    "version": 3
   },
   "file_extension": ".py",
   "mimetype": "text/x-python",
   "name": "python",
   "nbconvert_exporter": "python",
   "pygments_lexer": "ipython3",
   "version": "3.11.0rc1"
  }
 },
 "nbformat": 4,
 "nbformat_minor": 5
}
