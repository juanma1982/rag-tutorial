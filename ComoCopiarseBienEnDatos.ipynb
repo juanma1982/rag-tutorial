{
 "cells": [
  {
   "cell_type": "code",
   "execution_count": 1,
   "id": "4057efa5-e9b1-4287-998f-1770db2d68e4",
   "metadata": {},
   "outputs": [],
   "source": [
    "import ollama"
   ]
  },
  {
   "cell_type": "code",
   "execution_count": 2,
   "id": "18079ddf-6f7f-4605-aff9-caf990d30a6b",
   "metadata": {},
   "outputs": [],
   "source": [
    "model = \"llama3\"\n",
    "pregunta=\"¿Quien creo el algoritmo ID3?\""
   ]
  },
  {
   "cell_type": "code",
   "execution_count": 3,
   "id": "a1c8718b-8788-4780-93a2-0f35793f43c5",
   "metadata": {},
   "outputs": [
    {
     "name": "stdout",
     "output_type": "stream",
     "text": [
      "El algoritmo ID3 (Iterative-Deepening Depth-First Search) fue desarrollado por Rendell y Compton en 1982. El algoritmo ID3 es un método de búsqueda exhaustiva que utiliza una combinación de profundidad y anchura para explorar el espacio de estado de un problema.\n",
      "\n",
      "Sin embargo, es importante destacar que el algoritmo ID3 es una variante del algoritmo de búsqueda Depth-First Search (DFS), que fue originalmente desarrollado por Neilson en 1972. El algoritmo DFS es un método de búsqueda que explora profundamente el árbol de decisiones, empezando desde la raíz y siguiendo las ramas hasta llegar a una hoja.\n",
      "\n",
      "La principal contribución de Rendell y Compton fue la introducción del concepto de \"iteración\" en el algoritmo DFS, lo que permite explorar diferentes profundidades en el árbol de decisiones y encontrar soluciones más óptimas. Este enfoque iterativo ha demostrado ser efectivo para resolver problemas de decisión en domains complejos.\n",
      "\n",
      "En resumen, aunque no hubo un único creador del algoritmo ID3, Rendell y Compton hicieron una importante contribución al desarrollo del algoritmo DFS y su variante ID3.\n"
     ]
    }
   ],
   "source": [
    "response = ollama.chat(\n",
    "    model=model,\n",
    "    messages=[\n",
    "        {\n",
    "            \"role\": \"user\",\n",
    "            \"content\": pregunta,\n",
    "        },\n",
    "    ],\n",
    ")\n",
    "print(response[\"message\"][\"content\"])"
   ]
  },
  {
   "cell_type": "markdown",
   "id": "e39cb95a-ebcf-4e1b-9455-f0aae692e2dc",
   "metadata": {},
   "source": [
    "## Necesitamos RAG!"
   ]
  },
  {
   "cell_type": "code",
   "execution_count": 6,
   "id": "bebd628b-d98d-47c9-a31f-03bca83def8d",
   "metadata": {},
   "outputs": [],
   "source": [
    "YOUTUBE_VIDEO = \"https://www.youtube.com/watch?v=rbvmTtq6C3g\""
   ]
  },
  {
   "cell_type": "code",
   "execution_count": 12,
   "id": "4b49ca40-2d81-461f-be1e-5e390108da57",
   "metadata": {},
   "outputs": [],
   "source": [
    "import tempfile\n",
    "import whisper\n",
    "import os \n",
    "from pytube import YouTube\n",
    "\n",
    "\n",
    "# Bajemos la transcripcion del video si aun no la tenemos\n",
    "if not os.path.exists(\"textos/transcripcion.txt\"):\n",
    "    youtube = YouTube(YOUTUBE_VIDEO)\n",
    "    audio = youtube.streams.filter(only_audio=True).first()\n",
    "\n",
    "    # Let's load the base model. This is not the most accurate\n",
    "    # model but it's fast.\n",
    "    whisper_model = whisper.load_model(\"base\")\n",
    "\n",
    "    with tempfile.TemporaryDirectory() as tmpdir:\n",
    "        file = audio.download(output_path=tmpdir)\n",
    "        transcription = whisper_model.transcribe(file, fp16=False)[\"text\"].strip()\n",
    "\n",
    "        with open(\"textos/transcripcion.txt\", \"w\") as file:\n",
    "            file.write(transcription)"
   ]
  },
  {
   "cell_type": "code",
   "execution_count": 20,
   "id": "48f48e28-886d-4d75-97cc-93a33db7f5fb",
   "metadata": {},
   "outputs": [],
   "source": [
    "import ollama\n",
    "from langchain_community.document_loaders import TextLoader\n",
    "from langchain.text_splitter import RecursiveCharacterTextSplitter\n",
    "\n",
    "#Load documents\n",
    "loader = TextLoader(\"textos/transcripcion.txt\")\n",
    "text_documents = loader.load()\n"
   ]
  },
  {
   "cell_type": "code",
   "execution_count": 19,
   "id": "185c7213-7c1c-418b-80f0-503624566cec",
   "metadata": {},
   "outputs": [
    {
     "name": "stdout",
     "output_type": "stream",
     "text": [
      "No se menciona quién creó el algoritmo ID3 en la transcripción proporcionada. El enfoque principal es explicar el concepto de random forest y cómo funciona, utilizando ejemplos y metáforas para facilitar la comprensión. Sin embargo, es importante destacar que ID3 es un algoritmo de decisión árbol (Decision Tree) desarrollado por J. Ross Quinlan en 1986.\n"
     ]
    }
   ],
   "source": [
    "data = text_documents[0].page_content\n",
    "output = ollama.generate(\n",
    "  model=model,\n",
    "  prompt=f\"Usando estos datos: {data}. Responde a esta pregunta: {pregunta}\"\n",
    ")\n",
    "\n",
    "print(output['response'])"
   ]
  }
 ],
 "metadata": {
  "kernelspec": {
   "display_name": "Python 3 (ipykernel)",
   "language": "python",
   "name": "python3"
  },
  "language_info": {
   "codemirror_mode": {
    "name": "ipython",
    "version": 3
   },
   "file_extension": ".py",
   "mimetype": "text/x-python",
   "name": "python",
   "nbconvert_exporter": "python",
   "pygments_lexer": "ipython3",
   "version": "3.11.0rc1"
  }
 },
 "nbformat": 4,
 "nbformat_minor": 5
}
